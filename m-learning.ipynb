{
 "cells": [
  {
   "cell_type": "code",
   "execution_count": 1,
   "metadata": {},
   "outputs": [
    {
     "data": {
      "text/html": [
       "<style>.container { width:95% !important; }</style>"
      ],
      "text/plain": [
       "<IPython.core.display.HTML object>"
      ]
     },
     "metadata": {},
     "output_type": "display_data"
    }
   ],
   "source": [
    "import pandas as pd\n",
    "import numpy as np\n",
    "import json\n",
    "\n",
    "from sklearn.preprocessing import LabelEncoder\n",
    "from sklearn.feature_extraction.text import TfidfVectorizer\n",
    "from sklearn.decomposition import TruncatedSVD\n",
    "from sklearn.preprocessing import label_binarize\n",
    "\n",
    "from collections import Counter\n",
    "\n",
    "from sklearn.dummy import DummyClassifier\n",
    "from sklearn.linear_model import SGDClassifier\n",
    "from sklearn.naive_bayes import GaussianNB\n",
    "from sklearn.tree import DecisionTreeClassifier\n",
    "from sklearn.ensemble import RandomForestClassifier, AdaBoostClassifier\n",
    "from sklearn.neighbors import KNeighborsClassifier\n",
    "from sklearn.multiclass import OneVsRestClassifier\n",
    "\n",
    "from sklearn.model_selection import train_test_split\n",
    "from sklearn.model_selection import GridSearchCV\n",
    "from sklearn.metrics import accuracy_score, precision_score, recall_score, f1_score, roc_curve, auc, confusion_matrix\n",
    "from scipy import interp\n",
    "from itertools import cycle\n",
    "\n",
    "import matplotlib.pyplot as plt\n",
    "import seaborn as sns\n",
    "sns.set_style('darkgrid')\n",
    "\n",
    "from IPython.core.display import display, HTML\n",
    "display(HTML(\"<style>.container { width:95% !important; }</style>\"))\n",
    "import warnings\n",
    "warnings.filterwarnings('ignore')\n",
    "pd.options.display.float_format = '{:,.2f}'.format"
   ]
  },
  {
   "cell_type": "code",
   "execution_count": 2,
   "metadata": {},
   "outputs": [
    {
     "data": {
      "text/html": [
       "<div>\n",
       "<style scoped>\n",
       "    .dataframe tbody tr th:only-of-type {\n",
       "        vertical-align: middle;\n",
       "    }\n",
       "\n",
       "    .dataframe tbody tr th {\n",
       "        vertical-align: top;\n",
       "    }\n",
       "\n",
       "    .dataframe thead th {\n",
       "        text-align: right;\n",
       "    }\n",
       "</style>\n",
       "<table border=\"1\" class=\"dataframe\">\n",
       "  <thead>\n",
       "    <tr style=\"text-align: right;\">\n",
       "      <th></th>\n",
       "      <th>description</th>\n",
       "      <th>label</th>\n",
       "    </tr>\n",
       "  </thead>\n",
       "  <tbody>\n",
       "    <tr>\n",
       "      <th>0</th>\n",
       "      <td>avenue libération bp nancy cedex fax dictionna...</td>\n",
       "      <td>informatique</td>\n",
       "    </tr>\n",
       "    <tr>\n",
       "      <th>1</th>\n",
       "      <td>fondamentale questions étudiées informatique d...</td>\n",
       "      <td>informatique</td>\n",
       "    </tr>\n",
       "    <tr>\n",
       "      <th>2</th>\n",
       "      <td>permettant exprimer facilement algorithmes fac...</td>\n",
       "      <td>informatique</td>\n",
       "    </tr>\n",
       "    <tr>\n",
       "      <th>3</th>\n",
       "      <td>ensemble données but accéder rapidement façon ...</td>\n",
       "      <td>informatique</td>\n",
       "    </tr>\n",
       "    <tr>\n",
       "      <th>4</th>\n",
       "      <td>discipline universitaire mot science traductio...</td>\n",
       "      <td>informatique</td>\n",
       "    </tr>\n",
       "    <tr>\n",
       "      <th>5</th>\n",
       "      <td>pratique techniques méthodes organiser program...</td>\n",
       "      <td>informatique</td>\n",
       "    </tr>\n",
       "    <tr>\n",
       "      <th>6</th>\n",
       "      <td>ensemble objets trouver objet minimum ensemble...</td>\n",
       "      <td>informatique</td>\n",
       "    </tr>\n",
       "    <tr>\n",
       "      <th>7</th>\n",
       "      <td>langage généralement évolué programme généré e...</td>\n",
       "      <td>informatique</td>\n",
       "    </tr>\n",
       "  </tbody>\n",
       "</table>\n",
       "</div>"
      ],
      "text/plain": [
       "                                         description         label\n",
       "0  avenue libération bp nancy cedex fax dictionna...  informatique\n",
       "1  fondamentale questions étudiées informatique d...  informatique\n",
       "2  permettant exprimer facilement algorithmes fac...  informatique\n",
       "3  ensemble données but accéder rapidement façon ...  informatique\n",
       "4  discipline universitaire mot science traductio...  informatique\n",
       "5  pratique techniques méthodes organiser program...  informatique\n",
       "6  ensemble objets trouver objet minimum ensemble...  informatique\n",
       "7  langage généralement évolué programme généré e...  informatique"
      ]
     },
     "execution_count": 2,
     "metadata": {},
     "output_type": "execute_result"
    }
   ],
   "source": [
    "data = pd.read_csv('./CORPUS/Dataset.csv',sep=\";\")\n",
    "data.head(8)"
   ]
  },
  {
   "cell_type": "code",
   "execution_count": 5,
   "metadata": {},
   "outputs": [],
   "source": [
    "df_hotel = data.loc[data['label'] == 'hotel'] \n",
    "df_technologie = data.loc[data['label'] =='technologie']\n",
    "df_informatique = data.loc[data['label'] == 'informatique'] \n",
    "df_science = data.loc[data['label'] =='science']\n"
   ]
  },
  {
   "cell_type": "code",
   "execution_count": 6,
   "metadata": {},
   "outputs": [],
   "source": [
    "df_hotel = df_hotel.sample(n=1005, random_state=3, replace=True)\n",
    "df_technologie = df_technologie.sample(n=805, random_state=3,  replace=True)"
   ]
  },
  {
   "cell_type": "code",
   "execution_count": 7,
   "metadata": {},
   "outputs": [],
   "source": [
    "df_hotel_holdout = df_hotel.iloc[:5]\n",
    "df_technologie_holdout = df_technologie.iloc[:5]\n",
    "df_informatique_holdout = df_informatique.iloc[:5]\n",
    "df_science_holdout = df_science.iloc[:5]"
   ]
  },
  {
   "cell_type": "code",
   "execution_count": 8,
   "metadata": {},
   "outputs": [],
   "source": [
    "df_hotel = df_hotel.iloc[5:]\n",
    "df_technologie = df_technologie.iloc[5:]\n",
    "df_informatique = df_informatique.iloc[5:]\n",
    "df_science = df_science.iloc[5:]"
   ]
  },
  {
   "cell_type": "code",
   "execution_count": 9,
   "metadata": {},
   "outputs": [],
   "source": [
    "df = pd.concat([df_hotel, df_technologie, df_informatique, df_science])\n",
    "df_holdout = pd.concat([df_hotel_holdout, df_technologie_holdout, df_informatique_holdout, df_science_holdout])"
   ]
  },
  {
   "cell_type": "code",
   "execution_count": 10,
   "metadata": {},
   "outputs": [
    {
     "data": {
      "text/plain": [
       "label\n",
       "hotel           1000\n",
       "informatique     506\n",
       "science          777\n",
       "technologie      800\n",
       "Name: description, dtype: int64"
      ]
     },
     "metadata": {},
     "output_type": "display_data"
    },
    {
     "data": {
      "text/plain": [
       "label\n",
       "hotel           5\n",
       "informatique    5\n",
       "science         5\n",
       "technologie     5\n",
       "Name: description, dtype: int64"
      ]
     },
     "metadata": {},
     "output_type": "display_data"
    },
    {
     "data": {
      "text/plain": [
       "array(['hotel', 'technologie', 'informatique', 'science'], dtype=object)"
      ]
     },
     "metadata": {},
     "output_type": "display_data"
    },
    {
     "data": {
      "text/plain": [
       "array([0, 3, 1, 2])"
      ]
     },
     "metadata": {},
     "output_type": "display_data"
    }
   ],
   "source": [
    "LE = LabelEncoder()\n",
    "df['label_num'] = LE.fit_transform(df['label'])\n",
    "\n",
    "display(df.groupby(['label'])['description'].count())\n",
    "display(df_holdout.groupby(['label'])['description'].count())\n",
    "display(df['label'].unique())\n",
    "display(df['label_num'].unique())"
   ]
  },
  {
   "cell_type": "code",
   "execution_count": 12,
   "metadata": {},
   "outputs": [
    {
     "data": {
      "text/html": [
       "<div>\n",
       "<style scoped>\n",
       "    .dataframe tbody tr th:only-of-type {\n",
       "        vertical-align: middle;\n",
       "    }\n",
       "\n",
       "    .dataframe tbody tr th {\n",
       "        vertical-align: top;\n",
       "    }\n",
       "\n",
       "    .dataframe thead th {\n",
       "        text-align: right;\n",
       "    }\n",
       "</style>\n",
       "<table border=\"1\" class=\"dataframe\">\n",
       "  <thead>\n",
       "    <tr style=\"text-align: right;\">\n",
       "      <th></th>\n",
       "      <th>description</th>\n",
       "      <th>label</th>\n",
       "      <th>label_num</th>\n",
       "    </tr>\n",
       "  </thead>\n",
       "  <tbody>\n",
       "    <tr>\n",
       "      <th>0</th>\n",
       "      <td>créer vidéos faire profiter savoir expérience ...</td>\n",
       "      <td>informatique</td>\n",
       "      <td>1</td>\n",
       "    </tr>\n",
       "    <tr>\n",
       "      <th>1</th>\n",
       "      <td>peut incité analyse comparant phénomènes commu...</td>\n",
       "      <td>science</td>\n",
       "      <td>2</td>\n",
       "    </tr>\n",
       "    <tr>\n",
       "      <th>2</th>\n",
       "      <td>agents voyage bénéficierez commissions avantag...</td>\n",
       "      <td>hotel</td>\n",
       "      <td>0</td>\n",
       "    </tr>\n",
       "    <tr>\n",
       "      <th>3</th>\n",
       "      <td>extraordinaire photographie infrarouge centre ...</td>\n",
       "      <td>technologie</td>\n",
       "      <td>3</td>\n",
       "    </tr>\n",
       "    <tr>\n",
       "      <th>4</th>\n",
       "      <td>aujourd hui animé commerces atypiques restaura...</td>\n",
       "      <td>hotel</td>\n",
       "      <td>0</td>\n",
       "    </tr>\n",
       "    <tr>\n",
       "      <th>5</th>\n",
       "      <td>expertise remarquable bénéficier disponibilité...</td>\n",
       "      <td>technologie</td>\n",
       "      <td>3</td>\n",
       "    </tr>\n",
       "    <tr>\n",
       "      <th>6</th>\n",
       "      <td>moustapha bons conseils séjour versailles merv...</td>\n",
       "      <td>hotel</td>\n",
       "      <td>0</td>\n",
       "    </tr>\n",
       "    <tr>\n",
       "      <th>7</th>\n",
       "      <td>tamisés directionnels mise valeur objets décor...</td>\n",
       "      <td>technologie</td>\n",
       "      <td>3</td>\n",
       "    </tr>\n",
       "    <tr>\n",
       "      <th>8</th>\n",
       "      <td>lille chercheurs laboratoire océanologie géosc...</td>\n",
       "      <td>science</td>\n",
       "      <td>2</td>\n",
       "    </tr>\n",
       "    <tr>\n",
       "      <th>9</th>\n",
       "      <td>analyse algorithme αβ logiciel entièrement gar...</td>\n",
       "      <td>informatique</td>\n",
       "      <td>1</td>\n",
       "    </tr>\n",
       "    <tr>\n",
       "      <th>10</th>\n",
       "      <td>ttc partir disponibilités soumis conditions vo...</td>\n",
       "      <td>hotel</td>\n",
       "      <td>0</td>\n",
       "    </tr>\n",
       "    <tr>\n",
       "      <th>11</th>\n",
       "      <td>sciences exactes pur raisonnement déduction sc...</td>\n",
       "      <td>science</td>\n",
       "      <td>2</td>\n",
       "    </tr>\n",
       "    <tr>\n",
       "      <th>12</th>\n",
       "      <td>spéculation wundt appelle sciences normatives ...</td>\n",
       "      <td>science</td>\n",
       "      <td>2</td>\n",
       "    </tr>\n",
       "    <tr>\n",
       "      <th>13</th>\n",
       "      <td>agents voyage bénéficierez commissions avantag...</td>\n",
       "      <td>hotel</td>\n",
       "      <td>0</td>\n",
       "    </tr>\n",
       "    <tr>\n",
       "      <th>14</th>\n",
       "      <td>garance pastel indigo graisses colles suif cha...</td>\n",
       "      <td>technologie</td>\n",
       "      <td>3</td>\n",
       "    </tr>\n",
       "    <tr>\n",
       "      <th>15</th>\n",
       "      <td>is supported by for scientific research by jap...</td>\n",
       "      <td>science</td>\n",
       "      <td>2</td>\n",
       "    </tr>\n",
       "    <tr>\n",
       "      <th>16</th>\n",
       "      <td>fontaine jacques offenbach jules verne marc ch...</td>\n",
       "      <td>hotel</td>\n",
       "      <td>0</td>\n",
       "    </tr>\n",
       "    <tr>\n",
       "      <th>17</th>\n",
       "      <td>démontrer dieu existe remontant causes raisonn...</td>\n",
       "      <td>science</td>\n",
       "      <td>2</td>\n",
       "    </tr>\n",
       "    <tr>\n",
       "      <th>18</th>\n",
       "      <td>automobile kilomètres parcourus données échang...</td>\n",
       "      <td>technologie</td>\n",
       "      <td>3</td>\n",
       "    </tr>\n",
       "    <tr>\n",
       "      <th>19</th>\n",
       "      <td>and the amount of acceleration deceleration th...</td>\n",
       "      <td>technologie</td>\n",
       "      <td>3</td>\n",
       "    </tr>\n",
       "  </tbody>\n",
       "</table>\n",
       "</div>"
      ],
      "text/plain": [
       "                                          description         label  label_num\n",
       "0   créer vidéos faire profiter savoir expérience ...  informatique          1\n",
       "1   peut incité analyse comparant phénomènes commu...       science          2\n",
       "2   agents voyage bénéficierez commissions avantag...         hotel          0\n",
       "3   extraordinaire photographie infrarouge centre ...   technologie          3\n",
       "4   aujourd hui animé commerces atypiques restaura...         hotel          0\n",
       "5   expertise remarquable bénéficier disponibilité...   technologie          3\n",
       "6   moustapha bons conseils séjour versailles merv...         hotel          0\n",
       "7   tamisés directionnels mise valeur objets décor...   technologie          3\n",
       "8   lille chercheurs laboratoire océanologie géosc...       science          2\n",
       "9   analyse algorithme αβ logiciel entièrement gar...  informatique          1\n",
       "10  ttc partir disponibilités soumis conditions vo...         hotel          0\n",
       "11  sciences exactes pur raisonnement déduction sc...       science          2\n",
       "12  spéculation wundt appelle sciences normatives ...       science          2\n",
       "13  agents voyage bénéficierez commissions avantag...         hotel          0\n",
       "14  garance pastel indigo graisses colles suif cha...   technologie          3\n",
       "15  is supported by for scientific research by jap...       science          2\n",
       "16  fontaine jacques offenbach jules verne marc ch...         hotel          0\n",
       "17  démontrer dieu existe remontant causes raisonn...       science          2\n",
       "18  automobile kilomètres parcourus données échang...   technologie          3\n",
       "19  and the amount of acceleration deceleration th...   technologie          3"
      ]
     },
     "execution_count": 12,
     "metadata": {},
     "output_type": "execute_result"
    }
   ],
   "source": [
    "#mix data + lable_num\n",
    "df = df.sample(frac=1).reset_index(drop=True)\n",
    "df.head(20)"
   ]
  },
  {
   "cell_type": "code",
   "execution_count": 46,
   "metadata": {},
   "outputs": [
    {
     "name": "stdout",
     "output_type": "stream",
     "text": [
      "(3083, 89525)\n",
      "(3083,)\n"
     ]
    }
   ],
   "source": [
    "texts = df['description'].astype('str')\n",
    "\n",
    "tfidf_vectorizer = TfidfVectorizer(ngram_range=(1, 2), \n",
    "                                   min_df = 2, \n",
    "                                   max_df = .95)\n",
    "\n",
    "X = tfidf_vectorizer.fit_transform(texts) #features\n",
    "y = df['label_num'].values #target\n",
    "\n",
    "print (X.shape)\n",
    "print(y.shape)"
   ]
  },
  {
   "cell_type": "code",
   "execution_count": 47,
   "metadata": {},
   "outputs": [
    {
     "data": {
      "text/plain": [
       "(3083, 100)"
      ]
     },
     "execution_count": 47,
     "metadata": {},
     "output_type": "execute_result"
    }
   ],
   "source": [
    "Réduction de la dimensionnalité. Utiliser uniquement les 100 meilleures fonctionnalités de la catégorie er\n",
    "lsa = TruncatedSVD(n_components=100, \n",
    "                   n_iter=10, \n",
    "                   random_state=3)\n",
    "\n",
    "X = lsa.fit_transform(X)\n",
    "X.shape"
   ]
  },
  {
   "cell_type": "code",
   "execution_count": 48,
   "metadata": {},
   "outputs": [
    {
     "data": {
      "text/html": [
       "<div>\n",
       "<style scoped>\n",
       "    .dataframe tbody tr th:only-of-type {\n",
       "        vertical-align: middle;\n",
       "    }\n",
       "\n",
       "    .dataframe tbody tr th {\n",
       "        vertical-align: top;\n",
       "    }\n",
       "\n",
       "    .dataframe thead th {\n",
       "        text-align: right;\n",
       "    }\n",
       "</style>\n",
       "<table border=\"1\" class=\"dataframe\">\n",
       "  <thead>\n",
       "    <tr style=\"text-align: right;\">\n",
       "      <th></th>\n",
       "      <th>model_name</th>\n",
       "      <th>accuracy_score</th>\n",
       "      <th>precision_score</th>\n",
       "      <th>recall_score</th>\n",
       "      <th>f1_score</th>\n",
       "    </tr>\n",
       "  </thead>\n",
       "  <tbody>\n",
       "    <tr>\n",
       "      <th>1</th>\n",
       "      <td>Stochastic Gradient Descent</td>\n",
       "      <td>0.94</td>\n",
       "      <td>0.94</td>\n",
       "      <td>0.93</td>\n",
       "      <td>0.93</td>\n",
       "    </tr>\n",
       "    <tr>\n",
       "      <th>2</th>\n",
       "      <td>Random Forest</td>\n",
       "      <td>0.94</td>\n",
       "      <td>0.93</td>\n",
       "      <td>0.93</td>\n",
       "      <td>0.93</td>\n",
       "    </tr>\n",
       "    <tr>\n",
       "      <th>6</th>\n",
       "      <td>K Nearest Neighbor</td>\n",
       "      <td>0.94</td>\n",
       "      <td>0.93</td>\n",
       "      <td>0.93</td>\n",
       "      <td>0.93</td>\n",
       "    </tr>\n",
       "    <tr>\n",
       "      <th>3</th>\n",
       "      <td>Decsision Tree</td>\n",
       "      <td>0.90</td>\n",
       "      <td>0.89</td>\n",
       "      <td>0.89</td>\n",
       "      <td>0.89</td>\n",
       "    </tr>\n",
       "    <tr>\n",
       "      <th>4</th>\n",
       "      <td>AdaBoost</td>\n",
       "      <td>0.88</td>\n",
       "      <td>0.88</td>\n",
       "      <td>0.87</td>\n",
       "      <td>0.87</td>\n",
       "    </tr>\n",
       "    <tr>\n",
       "      <th>5</th>\n",
       "      <td>Gaussian Naive Bayes</td>\n",
       "      <td>0.60</td>\n",
       "      <td>0.69</td>\n",
       "      <td>0.63</td>\n",
       "      <td>0.59</td>\n",
       "    </tr>\n",
       "    <tr>\n",
       "      <th>0</th>\n",
       "      <td>Dummy</td>\n",
       "      <td>0.26</td>\n",
       "      <td>0.25</td>\n",
       "      <td>0.25</td>\n",
       "      <td>0.25</td>\n",
       "    </tr>\n",
       "  </tbody>\n",
       "</table>\n",
       "</div>"
      ],
      "text/plain": [
       "                    model_name accuracy_score precision_score recall_score  \\\n",
       "1  Stochastic Gradient Descent           0.94            0.94         0.93   \n",
       "2                Random Forest           0.94            0.93         0.93   \n",
       "6           K Nearest Neighbor           0.94            0.93         0.93   \n",
       "3               Decsision Tree           0.90            0.89         0.89   \n",
       "4                     AdaBoost           0.88            0.88         0.87   \n",
       "5         Gaussian Naive Bayes           0.60            0.69         0.63   \n",
       "0                        Dummy           0.26            0.25         0.25   \n",
       "\n",
       "  f1_score  \n",
       "1     0.93  \n",
       "2     0.93  \n",
       "6     0.93  \n",
       "3     0.89  \n",
       "4     0.87  \n",
       "5     0.59  \n",
       "0     0.25  "
      ]
     },
     "execution_count": 48,
     "metadata": {},
     "output_type": "execute_result"
    }
   ],
   "source": [
    "model_dict = {'Dummy' : DummyClassifier(random_state=3),\n",
    "              'Stochastic Gradient Descent' : SGDClassifier(random_state=3, loss='log'),\n",
    "              'Random Forest': RandomForestClassifier(random_state=3),\n",
    "              'Decsision Tree': DecisionTreeClassifier(random_state=3),\n",
    "              'AdaBoost': AdaBoostClassifier(random_state=3),\n",
    "              'Gaussian Naive Bayes': GaussianNB(),\n",
    "              'K Nearest Neighbor': KNeighborsClassifier()}\n",
    "\n",
    "X_train, X_test, y_train, y_test = train_test_split(X, \n",
    "                                                    y, \n",
    "                                                    test_size = .3, \n",
    "                                                    shuffle = True, \n",
    "                                                    stratify = y, \n",
    "                                                    random_state = 3)\n",
    "\n",
    "def model_score_df(model_dict):   \n",
    "    model_name, ac_score_list, p_score_list, r_score_list, f1_score_list = [], [], [], [], []\n",
    "    for k,v in model_dict.items():   \n",
    "        model_name.append(k)\n",
    "        v.fit(X_train, y_train)\n",
    "        y_pred = v.predict(X_test)\n",
    "        ac_score_list.append(accuracy_score(y_test, y_pred))\n",
    "        p_score_list.append(precision_score(y_test, y_pred, average='macro'))\n",
    "        r_score_list.append(recall_score(y_test, y_pred, average='macro'))\n",
    "        f1_score_list.append(f1_score(y_test, y_pred, average='macro'))\n",
    "        model_comparison_df = pd.DataFrame([model_name, ac_score_list, p_score_list, r_score_list, f1_score_list]).T\n",
    "        model_comparison_df.columns = ['model_name', 'accuracy_score', 'precision_score', 'recall_score', 'f1_score']\n",
    "        model_comparison_df = model_comparison_df.sort_values(by='f1_score', ascending=False)\n",
    "    return model_comparison_df\n",
    "\n",
    "model_score_df(model_dict)"
   ]
  },
  {
   "cell_type": "code",
   "execution_count": 49,
   "metadata": {},
   "outputs": [
    {
     "name": "stdout",
     "output_type": "stream",
     "text": [
      "Fitting 5 folds for each of 48 candidates, totalling 240 fits\n"
     ]
    },
    {
     "name": "stderr",
     "output_type": "stream",
     "text": [
      "[Parallel(n_jobs=-1)]: Using backend LokyBackend with 4 concurrent workers.\n",
      "[Parallel(n_jobs=-1)]: Done  42 tasks      | elapsed:  1.7min\n",
      "[Parallel(n_jobs=-1)]: Done 192 tasks      | elapsed: 16.6min\n",
      "[Parallel(n_jobs=-1)]: Done 240 out of 240 | elapsed: 25.0min finished\n"
     ]
    }
   ],
   "source": [
    "#Hyperparameter\n",
    "loss =  ['log']\n",
    "penalty = ['l2','l1']\n",
    "alpha = [1e-6, 1e-3, 1e-1, 1e0]\n",
    "max_iter = [5, 1000, 10000]\n",
    "tol = [None, 1e-3]\n",
    "eta0 = [0.1, 0.001]\n",
    "\n",
    "\n",
    "random_state = [3]\n",
    "clf = SGDClassifier()\n",
    "params = dict(loss=loss, penalty=penalty, alpha=alpha, max_iter=max_iter, tol=tol, random_state=random_state)\n",
    "gridsearch = GridSearchCV(clf, params, cv = 5, verbose = 1,  n_jobs = -1)\n",
    "\n",
    "sgd_best_model = gridsearch.fit(X, y)"
   ]
  },
  {
   "cell_type": "code",
   "execution_count": 50,
   "metadata": {},
   "outputs": [
    {
     "name": "stdout",
     "output_type": "stream",
     "text": [
      "Fitting 5 folds for each of 144 candidates, totalling 720 fits\n"
     ]
    },
    {
     "name": "stderr",
     "output_type": "stream",
     "text": [
      "[Parallel(n_jobs=-1)]: Using backend LokyBackend with 4 concurrent workers.\n",
      "[Parallel(n_jobs=-1)]: Done  42 tasks      | elapsed:  5.3min\n",
      "[Parallel(n_jobs=-1)]: Done 192 tasks      | elapsed: 26.2min\n",
      "[Parallel(n_jobs=-1)]: Done 442 tasks      | elapsed: 66.4min\n",
      "[Parallel(n_jobs=-1)]: Done 720 out of 720 | elapsed: 122.7min finished\n"
     ]
    }
   ],
   "source": [
    "#RF\n",
    "bootstrap = [True, False]\n",
    "max_depth = [10, 50, 100, None]\n",
    "max_features = ['auto', 'sqrt']\n",
    "min_samples_leaf = [1, 2, 4]\n",
    "min_samples_split = [2, 5, 10]\n",
    "n_estimators = [800, 1400, 2000]\n",
    "random_state = [3]\n",
    "\n",
    "clf = RandomForestClassifier()\n",
    "\n",
    "params = dict(bootstrap = bootstrap,\n",
    "              max_depth = max_depth,\n",
    "              max_features = max_features,\n",
    "              min_samples_leaf = min_samples_leaf,\n",
    "              n_estimators = n_estimators,\n",
    "              random_state=random_state)\n",
    "\n",
    "gridsearch = GridSearchCV(clf, params, cv=5, verbose=1, n_jobs=-1)\n",
    "\n",
    "rf_best_model = gridsearch.fit(X, y)"
   ]
  },
  {
   "cell_type": "code",
   "execution_count": 51,
   "metadata": {},
   "outputs": [],
   "source": [
    "# Définir les meilleurs modèles avec les paramètres sélectionnés dans grdsearch et RandomForest\n",
    "sgd_best_model = SGDClassifier(alpha=1e-06,\n",
    "                               loss='log',\n",
    "                               max_iter=1000,\n",
    "                               penalty='l2',\n",
    "                               learning_rate = 'constant',\n",
    "                               eta0 = .1,\n",
    "                               random_state = 3,\n",
    "                               tol=None)\n",
    "\n",
    "rf_best_model = RandomForestClassifier(bootstrap = False,\n",
    "                                       max_depth = 50,\n",
    "                                       max_features = 'auto',\n",
    "                                       min_samples_leaf = 1,\n",
    "                                       n_estimators = 1400,\n",
    "                                       random_state=3)"
   ]
  },
  {
   "cell_type": "code",
   "execution_count": 52,
   "metadata": {},
   "outputs": [
    {
     "data": {
      "image/png": "[encoded data removed]",
      "text/plain": [
       "<Figure size 936x720 with 1 Axes>"
      ]
     },
     "metadata": {},
     "output_type": "display_data"
    }
   ],
   "source": [
    "#Plot AUC - SGD\n",
    "\n",
    "y_b = label_binarize(y, classes = [0, 1, 2, 3])\n",
    "n_classes = y_b.shape[1]\n",
    "\n",
    "X_train_b, X_test_b, y_train_b, y_test_b = train_test_split(X,\n",
    "                                                            y_b,\n",
    "                                                            test_size = .3,\n",
    "                                                            shuffle = True,\n",
    "                                                            stratify = y,\n",
    "                                                            random_state = 3)\n",
    "\n",
    "\n",
    "sgd_classifier = OneVsRestClassifier(sgd_best_model)\n",
    "\n",
    "y_score = sgd_classifier.fit(X_train_b, y_train_b).predict_proba(X_test_b)\n",
    "\n",
    "fpr = dict()\n",
    "tpr = dict()\n",
    "roc_auc = dict()\n",
    "\n",
    "for i in range(n_classes):\n",
    "    fpr[i], tpr[i], _ = roc_curve(y_test_b[:, i], y_score[:, i])\n",
    "    roc_auc[i] = auc(fpr[i], tpr[i])\n",
    "\n",
    "fpr['micro'], tpr['micro'], _ = roc_curve(y_test_b.ravel(), y_score.ravel())\n",
    "roc_auc['micro'] = auc(fpr['micro'], tpr['micro'])\n",
    "\n",
    "all_fpr = np.unique(np.concatenate([fpr[i] for i in range(n_classes)]))\n",
    "\n",
    "mean_tpr = np.zeros_like(all_fpr)\n",
    "for i in range(n_classes):\n",
    "    mean_tpr += interp(all_fpr, fpr[i], tpr[i])\n",
    "\n",
    "mean_tpr /= n_classes\n",
    "\n",
    "fpr['macro'] = all_fpr\n",
    "tpr['macro'] = mean_tpr\n",
    "roc_auc['macro'] = auc(fpr['macro'], tpr['macro'])\n",
    "\n",
    "plt.figure(figsize=(13,10)) \n",
    "sns.set_style('darkgrid')\n",
    "lw=2\n",
    "\n",
    "plt.plot(fpr['micro'], \n",
    "         tpr['micro'], \n",
    "         label='micro-average ROC curve (area = {0:0.3f})'''.format(roc_auc['micro']),\n",
    "         color='deeppink',\n",
    "         linestyle=':', \n",
    "         linewidth=4)\n",
    "\n",
    "plt.plot(fpr['macro'], \n",
    "         tpr['macro'], \n",
    "         label='macro-average ROC curve (area = {0:0.3f})'''.format(roc_auc['macro']),\n",
    "         color='navy', \n",
    "         linestyle=':', \n",
    "         linewidth=4)\n",
    "\n",
    "colors = cycle(['#41924F', '#FFC300', '#a98ff3', '#59C7EA'])\n",
    "\n",
    "for i, color in zip(range(n_classes), colors):\n",
    "    plt.plot(fpr[i], tpr[i], \n",
    "             color=color, \n",
    "             lw=lw, \n",
    "             label='ROC curve of class {0} (area = {1:0.3f})'''.format(i, roc_auc[i]))\n",
    "\n",
    "plt.plot([0, 1], [0, 1], 'k--', lw=lw)\n",
    "plt.xlim([0.0, 1.0])\n",
    "plt.ylim([0.0, 1.05])\n",
    "plt.xlabel('1-Specificity (False Positive Rate)', fontsize = 14)\n",
    "plt.ylabel('Sensitivity (True Positive Rate)', fontsize = 14)\n",
    "plt.title('Receiver Operating Characteristic - SGD (loss = log)', fontsize = 16)\n",
    "plt.legend(loc=\"lower right\", fontsize = 13)\n",
    "plt.show()\n"
   ]
  },
  {
   "cell_type": "code",
   "execution_count": null,
   "metadata": {},
   "outputs": [],
   "source": []
  }
 ],
 "metadata": {
  "kernelspec": {
   "display_name": "Python 3",
   "language": "python",
   "name": "python3"
  },
  "language_info": {
   "codemirror_mode": {
    "name": "ipython",
    "version": 3
   },
   "file_extension": ".py",
   "mimetype": "text/x-python",
   "name": "python",
   "nbconvert_exporter": "python",
   "pygments_lexer": "ipython3",
   "version": "3.7.4"
  }
 },
 "nbformat": 4,
 "nbformat_minor": 2
}
