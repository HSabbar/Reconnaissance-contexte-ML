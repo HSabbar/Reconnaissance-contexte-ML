{
 "cells": [
  {
   "cell_type": "code",
   "execution_count": 9,
   "metadata": {},
   "outputs": [],
   "source": [
    "import csv\n",
    "import pandas as pd\n",
    "import nltk \n",
    "from nltk.stem.snowball import FrenchStemmer \n",
    "from nltk.corpus import stopwords \n",
    "import re \n",
    "from collections import Counter\n",
    "import os\n"
   ]
  },
  {
   "cell_type": "code",
   "execution_count": 2,
   "metadata": {},
   "outputs": [],
   "source": [
    "def read_raw_file(path):\n",
    "    f = open(path,\"r\") \n",
    "    raw = f.read()#.decode('utf8') \n",
    "    f.close()\n",
    "    return raw"
   ]
  },
  {
   "cell_type": "code",
   "execution_count": 3,
   "metadata": {},
   "outputs": [],
   "source": [
    "def get_tokens(text,encoding='utf8'):\n",
    "    '''récupérer tokens nltk  à partir de text'''\n",
    "    tokens = nltk.word_tokenize(text) \n",
    "    return text"
   ]
  },
  {
   "cell_type": "code",
   "execution_count": 4,
   "metadata": {},
   "outputs": [],
   "source": [
    "def get_nltk_text(raw,encoding='utf8'):\n",
    "    '''créer un texte nltk, Suppression les virgules'''\n",
    "    no_commas = re.sub(r'[.|,|\\']',' ', raw) \n",
    "    tokens = nltk.word_tokenize(no_commas) \n",
    "    text=nltk.Text(tokens,encoding) \n",
    "    return text"
   ]
  },
  {
   "cell_type": "code",
   "execution_count": 5,
   "metadata": {},
   "outputs": [],
   "source": [
    "def filter_stopwords(text,stopword_list):\n",
    "    '''normalise les mots en les transformant en minuscules, puis filtre les mots vides'''\n",
    "    words=[w.lower() for w in text] \n",
    "    filtered_words = [] \n",
    "    for word in words: \n",
    "        if word not in stopword_list and word.isalpha() and len(word) > 1: \n",
    "            filtered_words.append(word) \n",
    "    filtered_words#.sort() \n",
    "    return filtered_words"
   ]
  },
  {
   "cell_type": "code",
   "execution_count": 6,
   "metadata": {},
   "outputs": [],
   "source": [
    "def get_stopswords(type=\"veronis\"):\n",
    "    '''Suppression des mots vides avec NLTK'''\n",
    "    if type == \"veronis\":\n",
    "\n",
    "        raw_stopword_list = [\"Ap.\", \"Apr.\", \"GHz\", \"MHz\", \"USD\", \"a\", \"afin\", \"ah\", \"ai\", \"aie\", \"aient\",\"aies\", \n",
    "                             \"ait\", \"alors\", \"après\", \"as\", \"attendu\", \"au\", \"au-delà\", \"au-devant\",\"aucun\", \n",
    "                             \"aucune\", \"audit\", \"auprès\", \"auquel\", \"aura\", \"aurai\", \"auraient\",\"aurais\", \n",
    "                             \"aurait\", \"auras\", \"aurez\", \"auriez\", \"aurions\", \"aurons\", \"auront\", \"aussi\", \n",
    "                             \"autour\", \"autre\", \"autres\", \"autrui\", \"aux\", \"auxdites\", \"auxdits\", \"auxquelles\", \n",
    "                             \"auxquels\", \"avaient\", \"avais\", \"avait\", \"avant\", \"avec\", \"avez\", \"aviez\", \n",
    "                             \"avions\", \"avons\", \"ayant\", \"ayez\", \"ayons\", \"b\", \"bah\", \"banco\", \"ben\",\"bien\", \n",
    "                             \"bé\", \"c\", \"c'\", \"c'est\", \"c'était\", \"car\", \"ce\", \"ceci\", \"cela\", \"celle\",\n",
    "                             \"celle-ci\", \"celle-là\", \"celles\", \"celles-ci\", \"celles-là\", \"celui\", \"celui-ci\",\n",
    "                             \"celui-là\", \"celà\", \"cent\", \"cents\", \"cependant\", \"certain\", \"certaine\",\"certaines\",\n",
    "                             \"certains\", \"ces\", \"cet\", \"cette\", \"ceux\", \"ceux-ci\", \"ceux-là\",\"cf.\", \"cg\", \"cgr\", \n",
    "                             \"chacun\", \"chacune\", \"chaque\", \"chez\", \"ci\", \"cinq\", \"cinquante\", \"cinquante-cinq\", \n",
    "                             \"cinquante-deux\", \"cinquante-et-un\",\"cinquante-huit\", \"cinquante-neuf\", \n",
    "                             \"cinquante-quatre\", \"cinquante-sept\", \"cinquante-six\", \"cinquante-trois\", \n",
    "                             \"cl\", \"cm\", \"cm²\", \"comme\", \"contre\",\"d\", \"d'\", \"d'après\", \"d'un\", \"d'une\", \"dans\", \n",
    "                             \"de\", \"depuis\", \"derrière\", \"des\", \"desdites\", \"desdits\", \"desquelles\", \"desquels\", \n",
    "                             \"deux\", \"devant\", \"devers\", \"dg\", \"différentes\", \"différents\", \"divers\", \"diverses\", \"dix\", \n",
    "                             \"dix-huit\", \"dix-neuf\", \"dix-sept\", \"dl\", \"dm\", \"donc\", \"dont\", \"douze\", \"du\", \n",
    "                             \"dudit\", \"duquel\", \"durant\", \"dès\", \"déjà\", \"e\", \"eh\", \"elle\", \"elles\",\"en\", \n",
    "                             \"en-dehors\", \"encore\", \"enfin\", \"entre\", \"envers\", \"es\", \"est\", \"et\", \"eu\", \"eue\", \n",
    "                             \"eues\", \"euh\", \"eurent\", \"eus\", \"eusse\", \"eussent\", \"eusses\",\"eussiez\", \"eussions\", \n",
    "                             \"eut\", \"eux\", \"eûmes\", \"eût\", \"eûtes\", \"f\", \"fait\", \"fi\", \"flac\", \"fors\", \"furent\", \n",
    "                             \"fus\", \"fusse\", \"fussent\", \"fusses\", \"fussiez\", \"fussions\", \"fut\", \"fûmes\", \"fût\", \n",
    "                             \"fûtes\", \"g\", \"gr\", \"h\", \"ha\", \"han\", \"hein\", \"hem\", \"heu\", \"hg\", \"hl\", \"hm\", \"hm³\", \n",
    "                             \"holà\", \"hop\", \"hormis\", \"hors\", \"huit\", \"hum\", \"hé\", \"i\", \"ici\", \"il\", \"ils\", \"j\", \"j'\", \n",
    "                             \"j'ai\", \"j'avais\", \"j'étais\",\"jamais\", \"je\", \"jusqu'\", \"jusqu'au\", \"jusqu'aux\", \"jusqu'à\", \n",
    "                             \"jusque\", \"k\",\"kg\", \"km\", \"km²\", \"l\", \"l'\", \"l'autre\", \"l'on\", \"l'un\", \"l'une\", \"la\", \n",
    "                             \"laquelle\", \"le\", \"lequel\", \"les\", \"lesquelles\", \"lesquels\", \"leur\", \"leurs\", \"lez\", \n",
    "                             \"lors\", \"lorsqu'\", \"lorsque\", \"lui\", \"lès\", \"m\", \"m'\", \"ma\", \"maint\", \"mainte\", \n",
    "                             \"maintes\", \"maints\", \"mais\", \"malgré\", \"me\", \"mes\", \"mg\", \"mgr\", \"mil\", \"mille\", \n",
    "                             \"milliards\", \"millions\", \"ml\", \"mm\", \"mm²\", \"moi\", \"moins\", \"mon\", \"moyennant\", \"mt\", \n",
    "                             \"m²\", \"m³\", \"même\", \"mêmes\", \"n\", \"n'avait\", \"n'y\", \"ne\", \"neuf\", \"ni\", \"non\", \n",
    "                             \"nonante\", \"nonobstant\", \"nos\", \"notre\", \"nous\", \"nul\", \"nulle\", \"nº\", \"néanmoins\", \n",
    "                             \"o\", \"octante\", \"oh\", \"on\", \"ont\", \"onze\", \"or\", \"ou\", \"outre\", \"où\", \"p\", \"par\", \n",
    "                             \"par-delà\", \"parbleu\", \"parce\", \"parmi\", \"pas\", \"passé\", \"pendant\", \"personne\", \n",
    "                             \"peu\", \"plus\", \"plus_d'un\", \"plus_d'une\", \"plusieurs\", \"pour\", \"pourquoi\", \n",
    "                             \"pourtant\", \"pourvu\", \"près\", \"puisqu'\", \"puisque\", \"q\", \"qu\", \"qu'\", \"qu'elle\",\n",
    "                             \"qu'elles\", \"qu'il\", \"qu'ils\", \"qu'on\", \"quand\", \"quant\", \"quarante\", \"quarante-cinq\", \n",
    "                             \"quarante-deux\", \"quarante-et-un\", \"quarante-huit\", \"quarante-neuf\", \"quarante-quatre\", \n",
    "                             \"quarante-sept\", \"quarante-six\", \"quarante-trois\", \"quatorze\", \"quatre\", \"quatre-vingt\", \n",
    "                             \"quatre-vingt-cinq\", \"quatre-vingt-deux\", \"quatre-vingt-dix\", \"quatre-vingt-dix-huit\", \n",
    "                             \"quatre-vingt-dix-neuf\", \"quatre-vingt-dix-sept\", \"quatre-vingt-douze\", \"quatre-vingt-huit\", \n",
    "                             \"quatre-vingt-neuf\", \"quatre-vingt-onze\", \"quatre-vingt-quatorze\", \"quatre-vingt-quatre\", \n",
    "                             \"quatre-vingt-quinze\", \"quatre-vingt-seize\", \"quatre-vingt-sept\", \"quatre-vingt-six\", \n",
    "                             \"quatre-vingt-treize\", \"quatre-vingt-trois\", \"quatre-vingt-un\", \"quatre-vingt-une\", \n",
    "                             \"quatre-vingts\", \"que\", \"quel\", \"quelle\", \"quelles\", \"quelqu'\", \"quelqu'un\", \n",
    "                             \"quelqu'une\", \"quelque\", \"quelques\", \"quelques-unes\", \"quelques-uns\", \"quels\",\n",
    "                             \"qui\", \"quiconque\", \"quinze\", \"quoi\", \"quoiqu'\", \"quoique\", \"r\", \"revoici\", \n",
    "                             \"revoilà\", \"rien\", \"s\", \"s'\", \"sa\", \"sans\", \"sauf\", \"se\", \"seize\", \"selon\", \n",
    "                             \"sept\", \"septante\", \"sera\", \"serai\", \"seraient\", \"serais\", \"serait\", \"seras\",\n",
    "                             \"serez\", \"seriez\", \"serions\", \"serons\", \"seront\", \"ses\", \"si\", \"sinon\", \"six\", \n",
    "                             \"soi\", \"soient\", \"sois\", \"soit\", \"soixante\", \"soixante-cinq\", \"soixante-deux\", \n",
    "                             \"soixante-dix\", \"soixante-dix-huit\", \"soixante-dix-neuf\", \"soixante-dix-sept\", \n",
    "                             \"soixante-douze\", \"soixante-et-onze\", \"soixante-et-un\", \"soixante-et-une\", \n",
    "                             \"soixante-huit\", \"soixante-neuf\", \"soixante-quatorze\", \"soixante-quatre\", \n",
    "                             \"soixante-quinze\", \"soixante-seize\", \"soixante-sept\", \"soixante-six\", \n",
    "                             \"soixante-treize\", \"soixante-trois\", \"sommes\", \"son\", \"sont\", \"sous\", \n",
    "                             \"soyez\", \"soyons\", \"suis\", \"suite\", \"sur\", \"sus\", \"t\", \"t'\", \"ta\", \n",
    "                             \"tacatac\", \"tandis\", \"te\", \"tel\", \"telle\", \"telles\", \"tels\", \"tes\", \n",
    "                             \"toi\", \"ton\", \"toujours\", \"tous\", \"tout\", \"toute\", \"toutefois\", \n",
    "                             \"toutes\", \"treize\", \"trente\", \"trente-cinq\", \"trente-deux\", \"trente-et-un\",\n",
    "                             \"trente-huit\", \"trente-neuf\", \"trente-quatre\", \"trente-sept\", \"trente-six\",\n",
    "                             \"trente-trois\", \"trois\", \"très\", \"tu\", \"u\", \"un\", \"une\", \"unes\", \"uns\", \"v\", \n",
    "                             \"vers\", \"via\", \"vingt\", \"vingt-cinq\", \"vingt-deux\", \"vingt-huit\", \"vingt-neuf\", \n",
    "                             \"vingt-quatre\", \"vingt-sept\", \"vingt-six\", \"vingt-trois\", \"vis-à-vis\", \"voici\", \n",
    "                             \"voilà\", \"vos\", \"votre\", \"vous\", \"w\", \"x\", \"y\", \"z\", \"zéro\", \"à\", \"ç'\", \"ça\", \n",
    "                             \"ès\", \"étaient\", \"étais\", \"était\", \"étant\", \"étiez\", \"étions\", \"été\", \"étée\", \n",
    "                             \"étées\", \"étés\", \"êtes\", \"être\", \"ô\"]\n",
    "    else:\n",
    "        raw_stopword_list = stopwords.words('french')\n",
    "        \n",
    "    stopword_list = [word for word in raw_stopword_list] \n",
    "    return stopword_list\n"
   ]
  },
  {
   "cell_type": "code",
   "execution_count": 7,
   "metadata": {},
   "outputs": [],
   "source": [
    "def create_csv_file(filter_word, PATH, querry):\n",
    "    liste  = filtered_word\n",
    "    final = \" \"\n",
    "    i = 0\n",
    "    lista = []\n",
    "    with open(PATH + querry + '.csv', mode='w') as employee_file:\n",
    "        employee_writer = csv.writer(employee_file, delimiter = \" \")\n",
    "\n",
    "        for i in range(0, len(liste)):\n",
    "            if ((i % 130) == 0):\n",
    "                employee_writer.writerow(lista)\n",
    "                lista  =  []\n",
    "                lista.append(liste[i])\n",
    "            else :\n",
    "                lista.append(liste[i])\n"
   ]
  },
  {
   "cell_type": "code",
   "execution_count": 11,
   "metadata": {},
   "outputs": [
    {
     "name": "stdout",
     "output_type": "stream",
     "text": [
      "informatique.csv\n",
      "technologie.csv\n",
      "hotel.csv\n",
      "science.csv\n"
     ]
    }
   ],
   "source": [
    "if __name__==\"__main__\":\n",
    "    PATH_corpus_csv  =\"corpus_csv/\"\n",
    "    PATH_Data    =\"Data/\"\n",
    "    PATH_corpus  =\"corpus/\"\n",
    "    col    = ['description', 'label']\n",
    "    for element in os.listdir(PATH_Data):\n",
    "        if element.endswith('.txt'):\n",
    "            name  = element.split('.')\n",
    "            raw = read_raw_file(PATH_Data + element)\n",
    "            tokens = get_tokens(raw)\n",
    "          \n",
    "            text = get_nltk_text(raw)\n",
    "            stopword_list = get_stopswords()\n",
    "            filtered_word = filter_stopwords(text, stopword_list)\n",
    "\n",
    "            create_csv_file(filtered_word, PATH_corpus_csv, name[0])\n",
    "\n",
    "    for element in os.listdir(PATH_corpus_csv):\n",
    "        if element.endswith('.csv'):\n",
    "            print(element)\n",
    "            name  = element.split('.')\n",
    "            df  = pd.read_csv(PATH_corpus_csv+element, sep=';', header= None)\n",
    "            df['description'] = df[:]\n",
    "            df['label'] = name[0]\n",
    "            \n",
    "            df.rename(columns={\"0\": 'description', 'label': 'label'}, inplace=True)\n",
    "            \n",
    "            df1 = pd.DataFrame({'description': df['description'],\n",
    "                              'label' : df['label']})\n",
    "            df1.to_csv(PATH_corpus+\"Dataset.csv\", mode = 'a',columns =col, header=True, sep=\";\", index=False)\n",
    "\n",
    "        else :\n",
    "            pass\n",
    "    \n"
   ]
  }
 ],
 "metadata": {
  "kernelspec": {
   "display_name": "Python 3",
   "language": "python",
   "name": "python3"
  },
  "language_info": {
   "codemirror_mode": {
    "name": "ipython",
    "version": 3
   },
   "file_extension": ".py",
   "mimetype": "text/x-python",
   "name": "python",
   "nbconvert_exporter": "python",
   "pygments_lexer": "ipython3",
   "version": "3.7.4"
  }
 },
 "nbformat": 4,
 "nbformat_minor": 2
}
